{
 "cells": [
  {
   "cell_type": "markdown",
   "metadata": {},
   "source": [
    "# 1 - Introdution\n",
    "\n",
    "## Final Project - Titanic Case\n",
    "\n",
    "            This project has a objective to analyse Datas from the Titanic Ship historic disaster. The dataset was provided by Udacity as a Final Project for students of Data Science I - Fundamentals.\n",
    "    \n",
    "    \n",
    "            At this moment we start making questions to our dataset like:\n",
    "            \n",
    "        Q-01 - How many percent percent are there for lost and alive people according to Age Category?\n",
    "        Q-02 - What are the Age Categories percentages for Alive People?\n",
    "        Q-03 - What are the Age Categories percentages for Lost People?\n",
    "        Q-04 - What are the percentages for Alive and Lost People at Titanic Disaster?\n",
    "        Q-05 - What's the Gender percentage for Alive People?\n",
    "        Q-06 - What's the Gender percentage for Lost People?\n",
    "        Q-07 - Considering Age Category. What's the difference between gender according to Alive People?\n",
    "        Q-08 - Considering Age Category. What's the difference between gender according to Lost People?\n",
    "\n",
    "# 2 - Cleaning Steps\n",
    "\n",
    "            Verifying null values, duplicates, inconsistencies to clean and organize datas with the best practices of Data  Science.\n",
    "            \n",
    "## Data Preparing Content\n",
    "\n",
    "            Every data was treated and explained through code cleaning process at moment we type each one of them."
   ]
  },
  {
   "cell_type": "markdown",
   "metadata": {},
   "source": [
    "## Inicial Phase - Importing Python libraries and 'csv file' to work with datas"
   ]
  },
  {
   "cell_type": "code",
   "execution_count": 156,
   "metadata": {},
   "outputs": [
    {
     "data": {
      "text/html": [
       "<div>\n",
       "<style>\n",
       "    .dataframe thead tr:only-child th {\n",
       "        text-align: right;\n",
       "    }\n",
       "\n",
       "    .dataframe thead th {\n",
       "        text-align: left;\n",
       "    }\n",
       "\n",
       "    .dataframe tbody tr th {\n",
       "        vertical-align: top;\n",
       "    }\n",
       "</style>\n",
       "<table border=\"1\" class=\"dataframe\">\n",
       "  <thead>\n",
       "    <tr style=\"text-align: right;\">\n",
       "      <th></th>\n",
       "      <th>passengerid</th>\n",
       "      <th>survived</th>\n",
       "      <th>pclass</th>\n",
       "      <th>name</th>\n",
       "      <th>sex</th>\n",
       "      <th>age</th>\n",
       "      <th>sibsp</th>\n",
       "      <th>parch</th>\n",
       "      <th>ticket</th>\n",
       "      <th>fare</th>\n",
       "      <th>cabin</th>\n",
       "      <th>embarked</th>\n",
       "    </tr>\n",
       "  </thead>\n",
       "  <tbody>\n",
       "    <tr>\n",
       "      <th>0</th>\n",
       "      <td>1</td>\n",
       "      <td>0</td>\n",
       "      <td>3</td>\n",
       "      <td>Braund, Mr. Owen Harris</td>\n",
       "      <td>male</td>\n",
       "      <td>22.0</td>\n",
       "      <td>1</td>\n",
       "      <td>0</td>\n",
       "      <td>A/5 21171</td>\n",
       "      <td>7.2500</td>\n",
       "      <td>NaN</td>\n",
       "      <td>S</td>\n",
       "    </tr>\n",
       "    <tr>\n",
       "      <th>1</th>\n",
       "      <td>2</td>\n",
       "      <td>1</td>\n",
       "      <td>1</td>\n",
       "      <td>Cumings, Mrs. John Bradley (Florence Briggs Th...</td>\n",
       "      <td>female</td>\n",
       "      <td>38.0</td>\n",
       "      <td>1</td>\n",
       "      <td>0</td>\n",
       "      <td>PC 17599</td>\n",
       "      <td>71.2833</td>\n",
       "      <td>C85</td>\n",
       "      <td>C</td>\n",
       "    </tr>\n",
       "    <tr>\n",
       "      <th>2</th>\n",
       "      <td>3</td>\n",
       "      <td>1</td>\n",
       "      <td>3</td>\n",
       "      <td>Heikkinen, Miss. Laina</td>\n",
       "      <td>female</td>\n",
       "      <td>26.0</td>\n",
       "      <td>0</td>\n",
       "      <td>0</td>\n",
       "      <td>STON/O2. 3101282</td>\n",
       "      <td>7.9250</td>\n",
       "      <td>NaN</td>\n",
       "      <td>S</td>\n",
       "    </tr>\n",
       "    <tr>\n",
       "      <th>3</th>\n",
       "      <td>4</td>\n",
       "      <td>1</td>\n",
       "      <td>1</td>\n",
       "      <td>Futrelle, Mrs. Jacques Heath (Lily May Peel)</td>\n",
       "      <td>female</td>\n",
       "      <td>35.0</td>\n",
       "      <td>1</td>\n",
       "      <td>0</td>\n",
       "      <td>113803</td>\n",
       "      <td>53.1000</td>\n",
       "      <td>C123</td>\n",
       "      <td>S</td>\n",
       "    </tr>\n",
       "    <tr>\n",
       "      <th>4</th>\n",
       "      <td>5</td>\n",
       "      <td>0</td>\n",
       "      <td>3</td>\n",
       "      <td>Allen, Mr. William Henry</td>\n",
       "      <td>male</td>\n",
       "      <td>35.0</td>\n",
       "      <td>0</td>\n",
       "      <td>0</td>\n",
       "      <td>373450</td>\n",
       "      <td>8.0500</td>\n",
       "      <td>NaN</td>\n",
       "      <td>S</td>\n",
       "    </tr>\n",
       "  </tbody>\n",
       "</table>\n",
       "</div>"
      ],
      "text/plain": [
       "   passengerid  survived  pclass  \\\n",
       "0            1         0       3   \n",
       "1            2         1       1   \n",
       "2            3         1       3   \n",
       "3            4         1       1   \n",
       "4            5         0       3   \n",
       "\n",
       "                                                name     sex   age  sibsp  \\\n",
       "0                            Braund, Mr. Owen Harris    male  22.0      1   \n",
       "1  Cumings, Mrs. John Bradley (Florence Briggs Th...  female  38.0      1   \n",
       "2                             Heikkinen, Miss. Laina  female  26.0      0   \n",
       "3       Futrelle, Mrs. Jacques Heath (Lily May Peel)  female  35.0      1   \n",
       "4                           Allen, Mr. William Henry    male  35.0      0   \n",
       "\n",
       "   parch            ticket     fare cabin embarked  \n",
       "0      0         A/5 21171   7.2500   NaN        S  \n",
       "1      0          PC 17599  71.2833   C85        C  \n",
       "2      0  STON/O2. 3101282   7.9250   NaN        S  \n",
       "3      0            113803  53.1000  C123        S  \n",
       "4      0            373450   8.0500   NaN        S  "
      ]
     },
     "execution_count": 156,
     "metadata": {},
     "output_type": "execute_result"
    }
   ],
   "source": [
    "import pandas as pd  # Importing Pandas library\n",
    "import numpy as np   # Importing Numpy library\n",
    "import matplotlib.pyplot as plt # Importing Matplotlib library\n",
    "import matplotlib.patches as pls # Importing Matplotlib library\n",
    "import seaborn as sns # Importing Seaborn library\n",
    "\n",
    "% matplotlib inline\n",
    "sns.set_style('darkgrid')\n",
    "\n",
    "dft = pd.read_csv('titanic.csv')\n",
    "dft.columns = map(str.lower, dft.columns)\n",
    "\n",
    "dft.head()"
   ]
  },
  {
   "cell_type": "markdown",
   "metadata": {},
   "source": [
    "## Verifying Null Values into dataset"
   ]
  },
  {
   "cell_type": "code",
   "execution_count": 157,
   "metadata": {},
   "outputs": [
    {
     "data": {
      "text/plain": [
       "passengerid      0\n",
       "survived         0\n",
       "pclass           0\n",
       "name             0\n",
       "sex              0\n",
       "age            177\n",
       "sibsp            0\n",
       "parch            0\n",
       "ticket           0\n",
       "fare             0\n",
       "cabin          687\n",
       "embarked         2\n",
       "dtype: int64"
      ]
     },
     "execution_count": 157,
     "metadata": {},
     "output_type": "execute_result"
    }
   ],
   "source": [
    "#Count Null values\n",
    "dft.isnull().sum()"
   ]
  },
  {
   "cell_type": "markdown",
   "metadata": {},
   "source": [
    "## Creating Category for Age and analysing by group after\n",
    "\n",
    "            Category name: 'age_catedory'.\n",
    "            \n",
    "            children: 00 to 12 years old.\n",
    "                teen: 13 to 19 years old.\n",
    "               adult: 20 to 50 years old.\n",
    "                 old: over 50 years old.\n",
    "         \n",
    "            Null valeus: set as 'nan' for while."
   ]
  },
  {
   "cell_type": "code",
   "execution_count": 158,
   "metadata": {
    "collapsed": true
   },
   "outputs": [],
   "source": [
    "#Usind Numpy, it was created a new column as category age of people\n",
    "dft['age_category'] = np.where(dft['age'] < 13, 'Children',\n",
    "                      np.where(dft['age'] < 20, 'Teen',\n",
    "                      np.where(dft['age'] < 50, 'Adult',\n",
    "                      np.where(dft['age'] >= 50, 'Old', np.nan))))"
   ]
  },
  {
   "cell_type": "markdown",
   "metadata": {},
   "source": [
    "## Taking off Full Values to Save into a New Dataset\n",
    "        \n",
    "            Saving a list with full Values according to ['age'] column."
   ]
  },
  {
   "cell_type": "code",
   "execution_count": 159,
   "metadata": {},
   "outputs": [
    {
     "data": {
      "text/plain": [
       "(714, 13)"
      ]
     },
     "execution_count": 159,
     "metadata": {},
     "output_type": "execute_result"
    }
   ],
   "source": [
    "dff = dft.dropna(subset=['age']) # take off null to calculate proportions\n",
    "dff.shape # only columns with full Age values"
   ]
  },
  {
   "cell_type": "markdown",
   "metadata": {},
   "source": [
    "## Saving and applying proportions to null values according to ['age'] column\n",
    "        \n",
    "### Saving Variables to apply into age null values\n",
    "            \n",
    "            lna = 'Saving a null list according to ['age'] column'.\n",
    "            tna = 'Total null values for ['age'] column'.\n",
    "             \n",
    "### Find proportion and multiply for total age null values\n",
    "\n",
    "            Formula: (cat = Age Caterory, tla = Total Age not null, na = Total Null Ages)\n",
    "             \n",
    "$$ta = (\\frac{cat}{tla})*na$$\n",
    "\n",
    "            ta = Adult quantities applyed to null values.\n",
    "            tc = Children quantities applyed to null values.\n",
    "            to = Old quantities applyed to null values.\n",
    "            tt = Teen quantities applyed to null values."
   ]
  },
  {
   "cell_type": "code",
   "execution_count": 160,
   "metadata": {},
   "outputs": [
    {
     "name": "stdout",
     "output_type": "stream",
     "text": [
      "Total to be applyed into null list:\n",
      "\n",
      " ta = Adults: 118\n",
      " tc = Children:17\n",
      " to = Old:18\n",
      " tt = Teen:24\n"
     ]
    }
   ],
   "source": [
    "lna = dft[dft['age'].isnull()] # Null List according to column 'Age'\n",
    "tna = lna.count()['age_category'] # Null count according to column 'Age'\n",
    "\n",
    "def tlaca(a1): # Into a Age Null proportion, indentfy Quantities by Age Category choosing column data from it.\n",
    "    return int(round((dft[dft['age_category'] == a1].shape[0]/dff['age_category'].shape[0])*tna))\n",
    "\n",
    "# Applying proportion and multiplying for null count\n",
    "ta = tlaca('Adult')\n",
    "tc = tlaca('Children')\n",
    "to = tlaca('Old')\n",
    "tt = tlaca('Teen')\n",
    "\n",
    "print('Total to be applyed into null list:\\n')\n",
    "print(' ta = Adults: {}\\n tc = Children:{}\\n to = Old:{}\\n tt = Teen:{}'.format(ta, tc ,to ,tt)) # Result"
   ]
  },
  {
   "cell_type": "markdown",
   "metadata": {},
   "source": [
    "## Saving medians for 'age_category'\n",
    "\n",
    "            ma = Adult Median.\n",
    "            mc = Children Median.\n",
    "            mo = Old Median.\n",
    "            mt = Teen Median."
   ]
  },
  {
   "cell_type": "code",
   "execution_count": 161,
   "metadata": {},
   "outputs": [
    {
     "name": "stdout",
     "output_type": "stream",
     "text": [
      "Median to be applyed into null list:\n",
      "\n",
      " ma = Adults: 30.0\n",
      " mc = Children: 4.0\n",
      " mo = Old: 56.0\n",
      " mt = Teen: 18.0\n"
     ]
    }
   ],
   "source": [
    "# at same way I can save using group by the median by definition:\n",
    "\n",
    "def mlaca(a1): # Median of a filtered list by Age Category choosing column data from it.\n",
    "    return round(dft[dft['age_category'] == a1].median()['age'])\n",
    "\n",
    "ma = mlaca('Adult')\n",
    "mc = mlaca('Children')\n",
    "mo = mlaca('Old')\n",
    "mt = mlaca('Teen')\n",
    "\n",
    "print('Median to be applyed into null list:\\n')\n",
    "print(' ma = Adults: {}\\n mc = Children: {}\\n mo = Old: {}\\n mt = Teen: {}'.format(ma, mc ,mo ,mt)) # Result"
   ]
  },
  {
   "cell_type": "markdown",
   "metadata": {},
   "source": [
    "## Creating and appending median to null Age values\n",
    "\n",
    "            lna = 'Saving a null list according to ['age'] column'.\n",
    "            \n",
    "            ma = Adult Median.        ta = Adult quantities applyed to null values.                        \n",
    "            mc = Children Median.     tc = Children quantities applyed to null values.\n",
    "            mo = Old Median.          to = Old quantities applyed to null values.\n",
    "            mt = Teen Median.         tt = Teen quantities applyed to null values.\n",
    "            \n",
    "            A replaced Partial list into ['age'] null valeus according to Median.\n",
    "            \n",
    "            dfta = Filtered list with 'ta' applyed with 'ma' into ['age'] null values.\n",
    "            dftc = Filtered list with 'tc' applyed with 'mc' into ['age'] null values.\n",
    "            dfto = Filtered list with 'to' applyed with 'mo' into ['age'] null values.\n",
    "            dftt = Filtered list with 'tc' applyed with 'mc' into ['age'] null values.\n",
    "            \n",
    "            dftn = New List fulfilled with the replaced new values into ['age'] column."
   ]
  },
  {
   "cell_type": "code",
   "execution_count": 162,
   "metadata": {},
   "outputs": [
    {
     "name": "stdout",
     "output_type": "stream",
     "text": [
      "Category to be reprocessed\n",
      "\n",
      "               size  median\n",
      "age_category              \n",
      "nan            177    30.0 \n",
      "\n"
     ]
    }
   ],
   "source": [
    "# Filtering Data Lists according to informations above.\n",
    "dfta = lna.head(ta)\n",
    "dfta = dfta.fillna({'age':ma})\n",
    "\n",
    "dftc = lna.iloc[ta:,:].head(tc)\n",
    "dftc = dftc.fillna({'age':mc})\n",
    "\n",
    "dfto = lna.iloc[ta+tc:,:].head(to)\n",
    "dfto = dfto.fillna({'age':mo})\n",
    "\n",
    "dftt = lna.iloc[ta+tc+to:,:].head(tt)\n",
    "dftt = dftt.fillna({'age':mt})\n",
    "\n",
    "# Appending New fullfild Data Lists..\n",
    "dftn = dfta.append(dftc)\n",
    "dftn = dftn.append(dfto)\n",
    "dftn = dftn.append(dftt)\n",
    "\n",
    "print('Category to be reprocessed\\n\\n', round(dftn.groupby('age_category').age.agg(['size','median'])),'\\n') # Group by"
   ]
  },
  {
   "cell_type": "markdown",
   "metadata": {},
   "source": [
    "## Reprocessing 'age_category' and Print"
   ]
  },
  {
   "cell_type": "code",
   "execution_count": 163,
   "metadata": {},
   "outputs": [
    {
     "name": "stdout",
     "output_type": "stream",
     "text": [
      "Category reprocessed\n",
      "\n",
      "               size  median\n",
      "age_category              \n",
      "Adult          118    30.0\n",
      "Children        17     4.0\n",
      "Old             18    56.0\n",
      "Teen            24    18.0 \n",
      "\n"
     ]
    }
   ],
   "source": [
    "dftn['age_category'] = np.where(dftn['age'] < 13, 'Children',\n",
    "                       np.where(dftn['age'] < 20, 'Teen',\n",
    "                       np.where(dftn['age'] < 50, 'Adult',\n",
    "                       np.where(dftn['age'] >= 50, 'Old', np.nan))))\n",
    "\n",
    "print('Category reprocessed\\n\\n', round(dftn.groupby('age_category').age.agg(['size','median'])),'\\n') # Group by"
   ]
  },
  {
   "cell_type": "markdown",
   "metadata": {},
   "source": [
    "## Comparing column types"
   ]
  },
  {
   "cell_type": "code",
   "execution_count": 164,
   "metadata": {},
   "outputs": [
    {
     "data": {
      "text/plain": [
       "passengerid     True\n",
       "survived        True\n",
       "pclass          True\n",
       "name            True\n",
       "sex             True\n",
       "age             True\n",
       "sibsp           True\n",
       "parch           True\n",
       "ticket          True\n",
       "fare            True\n",
       "cabin           True\n",
       "embarked        True\n",
       "age_category    True\n",
       "dtype: bool"
      ]
     },
     "execution_count": 164,
     "metadata": {},
     "output_type": "execute_result"
    }
   ],
   "source": [
    "dftn.dtypes == dft.dtypes"
   ]
  },
  {
   "cell_type": "markdown",
   "metadata": {},
   "source": [
    "## Dropping Null list according to 'Age'"
   ]
  },
  {
   "cell_type": "code",
   "execution_count": 165,
   "metadata": {},
   "outputs": [
    {
     "name": "stdout",
     "output_type": "stream",
     "text": [
      "All Dataset:  (891, 13)\n",
      "Full Dataset:  (714, 13)\n"
     ]
    }
   ],
   "source": [
    "print('All Dataset: ', dft.shape) # All Dataset\n",
    "dft = dft[dft['age'].notnull()] # Full Age Dataset\n",
    "print('Full Dataset: ', dft.shape) # Full Age Dataset"
   ]
  },
  {
   "cell_type": "markdown",
   "metadata": {},
   "source": [
    "## Appending New list with the 'Age' cleaned to Full Age Dataset"
   ]
  },
  {
   "cell_type": "code",
   "execution_count": 166,
   "metadata": {},
   "outputs": [
    {
     "data": {
      "text/plain": [
       "(891, 13)"
      ]
     },
     "execution_count": 166,
     "metadata": {},
     "output_type": "execute_result"
    }
   ],
   "source": [
    "dft = dft.append(dftn) # Append Cleaned\n",
    "dft.shape # quantity"
   ]
  },
  {
   "cell_type": "markdown",
   "metadata": {},
   "source": [
    "## Replace Missing Datas with Text for 'Embarked'!"
   ]
  },
  {
   "cell_type": "code",
   "execution_count": 167,
   "metadata": {},
   "outputs": [
    {
     "name": "stdout",
     "output_type": "stream",
     "text": [
      "embarked\n",
      "C    168\n",
      "Q     77\n",
      "S    644\n",
      "U      2\n",
      "dtype: int64 \n",
      "\n",
      "Tota Embarked: 891\n"
     ]
    }
   ],
   "source": [
    "#Replacing Embarked Null Values and Checking\n",
    "dft['embarked'].fillna('U', inplace=True) # U == Unknown Place \n",
    "print(dft.groupby('embarked').size(),'\\n') # Verify by Group\n",
    "print('Tota Embarked: {}'.format(sum(dft.groupby('embarked').size()))) # Checking size"
   ]
  },
  {
   "cell_type": "markdown",
   "metadata": {},
   "source": [
    "## Replace Missing Datas with UCN for 'Cabin'!"
   ]
  },
  {
   "cell_type": "code",
   "execution_count": 168,
   "metadata": {},
   "outputs": [
    {
     "name": "stdout",
     "output_type": "stream",
     "text": [
      "Total: 891\n"
     ]
    }
   ],
   "source": [
    "#Replacing Cabin Null Values and Checking\n",
    "dft['cabin'].fillna('UCN', inplace=True) # UCN == Unknown Cabin Number \n",
    "print('Total: {}'.format(sum(dft.groupby('cabin').size()))) # Checking Total in format way"
   ]
  },
  {
   "cell_type": "markdown",
   "metadata": {},
   "source": [
    "## Checking if you still have missing values"
   ]
  },
  {
   "cell_type": "code",
   "execution_count": 169,
   "metadata": {},
   "outputs": [
    {
     "data": {
      "text/plain": [
       "passengerid     0\n",
       "survived        0\n",
       "pclass          0\n",
       "name            0\n",
       "sex             0\n",
       "age             0\n",
       "sibsp           0\n",
       "parch           0\n",
       "ticket          0\n",
       "fare            0\n",
       "cabin           0\n",
       "embarked        0\n",
       "age_category    0\n",
       "dtype: int64"
      ]
     },
     "execution_count": 169,
     "metadata": {},
     "output_type": "execute_result"
    }
   ],
   "source": [
    "#Checking Missing fill steps\n",
    "dft.isnull().sum()"
   ]
  },
  {
   "cell_type": "markdown",
   "metadata": {},
   "source": [
    "## Checking and Dropping Duplicates"
   ]
  },
  {
   "cell_type": "code",
   "execution_count": 170,
   "metadata": {},
   "outputs": [
    {
     "data": {
      "text/plain": [
       "0"
      ]
     },
     "execution_count": 170,
     "metadata": {},
     "output_type": "execute_result"
    }
   ],
   "source": [
    "dft.duplicated().sum() # No duplicated data"
   ]
  },
  {
   "cell_type": "code",
   "execution_count": 171,
   "metadata": {},
   "outputs": [
    {
     "data": {
      "text/html": [
       "<div>\n",
       "<style>\n",
       "    .dataframe thead tr:only-child th {\n",
       "        text-align: right;\n",
       "    }\n",
       "\n",
       "    .dataframe thead th {\n",
       "        text-align: left;\n",
       "    }\n",
       "\n",
       "    .dataframe tbody tr th {\n",
       "        vertical-align: top;\n",
       "    }\n",
       "</style>\n",
       "<table border=\"1\" class=\"dataframe\">\n",
       "  <thead>\n",
       "    <tr style=\"text-align: right;\">\n",
       "      <th></th>\n",
       "      <th>size</th>\n",
       "      <th>mean</th>\n",
       "    </tr>\n",
       "    <tr>\n",
       "      <th>age_category</th>\n",
       "      <th></th>\n",
       "      <th></th>\n",
       "    </tr>\n",
       "  </thead>\n",
       "  <tbody>\n",
       "    <tr>\n",
       "      <th>Adult</th>\n",
       "      <td>594</td>\n",
       "      <td>31.0</td>\n",
       "    </tr>\n",
       "    <tr>\n",
       "      <th>Children</th>\n",
       "      <td>86</td>\n",
       "      <td>5.0</td>\n",
       "    </tr>\n",
       "    <tr>\n",
       "      <th>Old</th>\n",
       "      <td>92</td>\n",
       "      <td>57.0</td>\n",
       "    </tr>\n",
       "    <tr>\n",
       "      <th>Teen</th>\n",
       "      <td>119</td>\n",
       "      <td>17.0</td>\n",
       "    </tr>\n",
       "  </tbody>\n",
       "</table>\n",
       "</div>"
      ],
      "text/plain": [
       "              size  mean\n",
       "age_category            \n",
       "Adult          594  31.0\n",
       "Children        86   5.0\n",
       "Old             92  57.0\n",
       "Teen           119  17.0"
      ]
     },
     "execution_count": 171,
     "metadata": {},
     "output_type": "execute_result"
    }
   ],
   "source": [
    "round(dft.groupby(['age_category']).age.agg(['size','mean'])) # Group by"
   ]
  },
  {
   "cell_type": "markdown",
   "metadata": {},
   "source": [
    "## Correcting Column 'Survived'\n",
    "\n",
    "            1 = Alive.\n",
    "            0 = Lost.\n",
    "            \n",
    "            df_al = A survived group by for survived people."
   ]
  },
  {
   "cell_type": "code",
   "execution_count": 172,
   "metadata": {
    "collapsed": true
   },
   "outputs": [],
   "source": [
    "dft.survived.replace([1, 0], ['Alive', 'Lost'], inplace=True)"
   ]
  },
  {
   "cell_type": "markdown",
   "metadata": {},
   "source": [
    "# 03 - Analysis Definitions"
   ]
  },
  {
   "cell_type": "markdown",
   "metadata": {},
   "source": [
    "### Total Stacked Bar Chart Definition\n",
    "\n",
    "            dfc1 = Choose a valid Column 1 name to group.\n",
    "            dfc2 = Choose a valid Column 2 name to group.\n",
    "              c1 = Choose color 1.\n",
    "              c2 = Choose color 2.\n",
    "       def tbarc = Total bar chart."
   ]
  },
  {
   "cell_type": "code",
   "execution_count": 173,
   "metadata": {
    "collapsed": true
   },
   "outputs": [],
   "source": [
    "def tl_barc(dfc1, dfc2, c1, c2): # Explanation above\n",
    "    return ((dft.groupby([dfc1, dfc2]).size()/dft.shape[0])*100).unstack().plot(\n",
    "                    kind='bar',\n",
    "                    stacked=True,    \n",
    "                    title='Gender Stacked Bar Chart for Gender',\n",
    "                    color=[c1,c2],\n",
    "                    figsize=(9,7),\n",
    "                    fontsize=10,\n",
    "                    rot=0);"
   ]
  },
  {
   "cell_type": "markdown",
   "metadata": {},
   "source": [
    "### Alive or Lost Stacked Bar Chart Definition\n",
    "\n",
    "              lc = Life Condition, choose 'Alive' or 'Lost'.\n",
    "            dfc1 = Choose a valid Column 1 name to group.\n",
    "            dfc2 = Choose a valid Column 2 name to group.\n",
    "              c1 = Choose color 1.\n",
    "              c2 = Choose color 2.\n",
    "         lc_barc = Life Condition bar chart. "
   ]
  },
  {
   "cell_type": "code",
   "execution_count": 174,
   "metadata": {
    "collapsed": true
   },
   "outputs": [],
   "source": [
    "def lc_barc(lc, dfc1, dfc2, c1, c2): # Explanation above\n",
    "    return ((dft[dft['survived']==lc].groupby([dfc1, dfc2]).size()/\n",
    "             dft[dft['survived']==lc].shape[0])*100).unstack().plot(\n",
    "                    kind='bar',\n",
    "                    stacked=True,    \n",
    "                    title='Gender Stacked Bar Chart for Gender',\n",
    "                    color=[c1,c2],\n",
    "                    figsize=(9,7),\n",
    "                    fontsize=10,\n",
    "                    rot=0);"
   ]
  },
  {
   "cell_type": "markdown",
   "metadata": {},
   "source": [
    "### Pie Chart Variables\n",
    "\n",
    "               ac = Age Categories list.\n",
    "            lb_ac = List of Age Categories.\n",
    "          cols_ac = Defined colors for Age Categories.\n",
    "          cols_lc = Defined colors for Life Conditions. (Alive or Lost)\n",
    "              glc = Grouped by Life Conditions. (Alive or Lost)\n",
    "              ulc = Unique list for glc.\n",
    "            lb_gc = Gender Category ascending."
   ]
  },
  {
   "cell_type": "code",
   "execution_count": 175,
   "metadata": {
    "collapsed": true
   },
   "outputs": [],
   "source": [
    "lb_ac = list(dict(dft.groupby('age_category').size()))\n",
    "cols_ac = ['c', 'y', 'g', 'r']\n",
    "cols_lc = ['c', 'r']\n",
    "glc = dft.groupby(['survived'])['embarked'].size()\n",
    "ulc = list(dict(glc))\n",
    "lb_gc = pd.Series(pd.unique(dft['sex'])).sort_values(ascending=True)"
   ]
  },
  {
   "cell_type": "markdown",
   "metadata": {},
   "source": [
    "### Pie Chart Defitions\n",
    "\n",
    "     def gc_piec = Pie Chart for Gender Group by for a choosen life conditions. (Alive or Lost)\n",
    "     def ac_piec = Pie Chart for Age Categories Group by for a choosen life conditions. (Alive or Lost)\n",
    "              lc = Choose life conditions. (Alive or Lost)"
   ]
  },
  {
   "cell_type": "code",
   "execution_count": 176,
   "metadata": {
    "collapsed": true
   },
   "outputs": [],
   "source": [
    "def gc_piec(lc):\n",
    "    return plt.pie(dft[dft['survived']==lc].groupby(['sex']).size(),\n",
    "                   textprops={'fontsize': 12},\n",
    "                   colors=cols_lc,\n",
    "                   startangle=90,\n",
    "                   shadow=True,\n",
    "                   explode=(0.1,0.1),\n",
    "                   autopct='%0.2f%%',\n",
    "                   radius=1);"
   ]
  },
  {
   "cell_type": "code",
   "execution_count": 177,
   "metadata": {
    "collapsed": true
   },
   "outputs": [],
   "source": [
    "def ac_piec(lc):\n",
    "    plt.pie(dft[dft['survived']==lc].groupby(['age_category']).size(),\n",
    "            textprops={'fontsize': 12},\n",
    "            colors=cols_ac,\n",
    "            startangle=90,\n",
    "            shadow=True,\n",
    "            explode=(0.1,0.15,0.15,0.08),\n",
    "            autopct='%0.2f%%',\n",
    "            radius=1);"
   ]
  },
  {
   "cell_type": "markdown",
   "metadata": {},
   "source": [
    "# Pie and Bar Analysis Progressions"
   ]
  },
  {
   "cell_type": "markdown",
   "metadata": {},
   "source": [
    "## Q-01 - Life Conditions Stacked Bar Chart Analysis for Age Category\n",
    "\n",
    "            a1 = Grouped by Age Category and Gender."
   ]
  },
  {
   "cell_type": "code",
   "execution_count": 178,
   "metadata": {},
   "outputs": [
    {
     "data": {
      "image/png": "[encoded data removed]",
      "text/plain": [
       "<matplotlib.figure.Figure at 0x10daf5086a0>"
      ]
     },
     "metadata": {},
     "output_type": "display_data"
    }
   ],
   "source": [
    "tl_barc('age_category', 'survived', 'b', 'r')\n",
    "\n",
    "plt.xlabel('Titanic Disaster');\n",
    "plt.ylabel('% - Percent Scale');"
   ]
  },
  {
   "cell_type": "markdown",
   "metadata": {},
   "source": [
    "## Q-01 - Stacked Bar Above\n",
    "\n",
    "            According to life conditions between Alive and Lost people clearly we see our losts were greater for Adults, Teens and Olds. Thus only Children had a different end."
   ]
  },
  {
   "cell_type": "markdown",
   "metadata": {},
   "source": [
    "## Q-02 - Pie Chart Among Age Category for Alive People %"
   ]
  },
  {
   "cell_type": "code",
   "execution_count": 179,
   "metadata": {},
   "outputs": [
    {
     "data": {
      "image/png": "[encoded data removed]",
      "text/plain": [
       "<matplotlib.figure.Figure at 0x10daf5081d0>"
      ]
     },
     "metadata": {},
     "output_type": "display_data"
    }
   ],
   "source": [
    "plt.axis('equal');\n",
    "plt.title('Alive People');\n",
    "ac_piec('Alive');\n",
    "\n",
    "\n",
    "plt.legend(lb_ac, bbox_to_anchor=(1,0), loc='lower center', fontsize=12);\n"
   ]
  },
  {
   "cell_type": "markdown",
   "metadata": {},
   "source": [
    "## Q-02 - Pie Chart Above\n",
    "\n",
    "            In this case we found those Adults with almost 65% of alives in reference to others."
   ]
  },
  {
   "cell_type": "markdown",
   "metadata": {},
   "source": [
    "## Q-03 - Pie Chart Among Age Category for Lost People %"
   ]
  },
  {
   "cell_type": "code",
   "execution_count": 180,
   "metadata": {},
   "outputs": [
    {
     "data": {
      "image/png": "[encoded data removed]",
      "text/plain": [
       "<matplotlib.figure.Figure at 0x10daf556f28>"
      ]
     },
     "metadata": {},
     "output_type": "display_data"
    }
   ],
   "source": [
    "ac_piec('Lost')\n",
    "\n",
    "plt.title('Lost People');\n",
    "plt.legend(lb_ac, bbox_to_anchor=(1,0), loc='lower center', fontsize=12);\n",
    "plt.axis('equal');"
   ]
  },
  {
   "cell_type": "markdown",
   "metadata": {},
   "source": [
    "## Q-03 - Pie Chart Above\n",
    "\n",
    "            In this case we found those Adults with almost 70% of losts in reference to others."
   ]
  },
  {
   "cell_type": "markdown",
   "metadata": {},
   "source": [
    "## Q-04 - Pie Chart Between Lost and Alive People %"
   ]
  },
  {
   "cell_type": "code",
   "execution_count": 184,
   "metadata": {},
   "outputs": [
    {
     "data": {
      "image/png": "[encoded data removed]",
      "text/plain": [
       "<matplotlib.figure.Figure at 0x10daf688a90>"
      ]
     },
     "metadata": {},
     "output_type": "display_data"
    }
   ],
   "source": [
    "plt.pie(glc,\n",
    "        textprops={'fontsize': 12},\n",
    "        colors=cols_lc,\n",
    "        startangle=90,\n",
    "        shadow=True,\n",
    "        explode=(0.1,0.1),\n",
    "        autopct='%0.2f%%',\n",
    "        radius=1);\n",
    "\n",
    "plt.title('Losts and Alive People');\n",
    "plt.legend(ulc ,bbox_to_anchor=(1,0), loc='lower center', fontsize=12);\n",
    "plt.axis('equal');"
   ]
  },
  {
   "cell_type": "markdown",
   "metadata": {},
   "source": [
    "## Q-04 - Pie Chart Above\n",
    "\n",
    "            Unfortunately our losts were greater then we imagined."
   ]
  },
  {
   "cell_type": "markdown",
   "metadata": {},
   "source": [
    "## Q-05 - Pie Chart Between Gender for Alive People %"
   ]
  },
  {
   "cell_type": "code",
   "execution_count": 182,
   "metadata": {},
   "outputs": [
    {
     "data": {
      "image/png": "[encoded data removed]",
      "text/plain": [
       "<matplotlib.figure.Figure at 0x10daf3e3860>"
      ]
     },
     "metadata": {},
     "output_type": "display_data"
    }
   ],
   "source": [
    "gc_piec('Alive')\n",
    "\n",
    "plt.title('Alive People');\n",
    "plt.legend(lb_gc, bbox_to_anchor=(1,0), loc='lower center', fontsize=12);\n",
    "plt.axis('equal');"
   ]
  },
  {
   "cell_type": "markdown",
   "metadata": {},
   "source": [
    "## Q-05 - Pie Chart Above\n",
    "\n",
    "            As a human cortezy, men sacrificed themselves to guarantee women lives."
   ]
  },
  {
   "cell_type": "markdown",
   "metadata": {},
   "source": [
    "## Q-06 - Pie Chart Between Gender for Lost People %"
   ]
  },
  {
   "cell_type": "code",
   "execution_count": 183,
   "metadata": {},
   "outputs": [
    {
     "data": {
      "image/png": "[encoded data removed]",
      "text/plain": [
       "<matplotlib.figure.Figure at 0x10dae0dac18>"
      ]
     },
     "metadata": {},
     "output_type": "display_data"
    }
   ],
   "source": [
    "gc_piec('Lost')\n",
    "\n",
    "plt.title('Lost People');\n",
    "plt.legend(lb_gc, bbox_to_anchor=(1,0), loc='lower center', fontsize=12);\n",
    "plt.axis('equal');"
   ]
  },
  {
   "cell_type": "markdown",
   "metadata": {},
   "source": [
    "## Q-06 - Pie Chart Above\n",
    "\n",
    "            In comparison to alive people, this situation was exactly the opposite, being a small part of this terrible     lost."
   ]
  },
  {
   "cell_type": "markdown",
   "metadata": {},
   "source": [
    "## Q-07 - Gender Stacked Bar Chart for Age Category - Alive People\n",
    "\n",
    "            a7 = Filtered a Life Condition List of Lost people, grouped by Age Category and Gender."
   ]
  },
  {
   "cell_type": "code",
   "execution_count": 154,
   "metadata": {},
   "outputs": [
    {
     "data": {
      "image/png": "[encoded data removed]",
      "text/plain": [
       "<matplotlib.figure.Figure at 0x10daf74a320>"
      ]
     },
     "metadata": {},
     "output_type": "display_data"
    }
   ],
   "source": [
    "lc_barc('Alive','age_category', 'sex', 'c', 'r')\n",
    "\n",
    "plt.xlabel('Alive People');\n",
    "plt.ylabel('% - Percent Scale');"
   ]
  },
  {
   "cell_type": "markdown",
   "metadata": {},
   "source": [
    "## Q-07 - Stacked Bar Chart Above\n",
    "\n",
    "            By the same cortezy guaranteed by men, women were intensivelly saved in this tragedy."
   ]
  },
  {
   "cell_type": "markdown",
   "metadata": {},
   "source": [
    "## Q-08 - Gender Stacked Bar Chart for Age Category - Lost People\n",
    "\n",
    "            a8 = Filtered a Life Condition List of Lost people, grouped by Age Category and Gender."
   ]
  },
  {
   "cell_type": "code",
   "execution_count": 155,
   "metadata": {},
   "outputs": [
    {
     "data": {
      "image/png": "[encoded data removed]",
      "text/plain": [
       "<matplotlib.figure.Figure at 0x10daf452da0>"
      ]
     },
     "metadata": {},
     "output_type": "display_data"
    }
   ],
   "source": [
    "lc_barc('Lost','age_category', 'sex', 'c', 'r')\n",
    "\n",
    "\n",
    "plt.xlabel('Lost People');\n",
    "plt.ylabel('% - Percent Scale');"
   ]
  },
  {
   "cell_type": "markdown",
   "metadata": {},
   "source": [
    "## Q-08 - Stacked Bar Chart Above\n",
    "\n",
    "            As obviously, in the opposite of situation showed before, right here our men losts were expressively in every Age Category created to support our dataset."
   ]
  },
  {
   "cell_type": "markdown",
   "metadata": {},
   "source": [
    "# 04 - Conclusions\n",
    "\n",
    "            Finaly we got the conclusions, and for our founds, these analysis compared the Age differences agrouping them by categories, the alive and lost people, the gender of them, using several graphs to support efectively our discoverings during the research.\n",
    "            Of course, there are a lot more questions that dataset may support us for good decision.\n",
    "            As well as every chart had answered relevant questions showed during this section of analysis.\n",
    "            \n",
    "# Limitations\n",
    "\n",
    "            Considering all passengers on board being 1300 and meanwhile we suppose a sum of 30 people as crew. Thence, we  have a total of 1330 people on board that disaster. It actually meant that our results were significantly impacted by a losing of almost 30% of datas.\n",
    "            \n",
    "            For cleaning missing data we took some steps:\n",
    "            \n",
    "                To fill nill for 'age' column was created a new column called 'age_category', being ages among life phases.\n",
    "                The nill datas of column'age' was filled with the median according to datas of 'age_category'.\n",
    "                Then the 'embarked' column nill data was filled with data 'U' being the Unknown place.\n",
    "                By the way for 'cabin' column was filled a total of 687 nill values with [UCN] Unknown Cabin Number and it          does not considered as criteria for analysis.\n",
    "                \n",
    "\n",
    "\n",
    "## Other Questions that can be Analysed in this dataset:\n",
    "            \n",
    "            How many Survived people for class can we find into dataset?\n",
    "            How many Survived people for class can we find into dataset by gender?\n",
    "            How many people does tragedy have for port of Embark?\n",
    "            How many Survived per port and gender do we have?\n",
    "            \n",
    "# Resources\n",
    "            \n",
    "            Titanic Data Base from Kraggle;\n",
    "            Python Documentation;\n",
    "            Python Libraries Documantation {Pandas, Numpy, Matplotlib, Matplotlib Patches  and Seaborn};\n",
    "            StackOverflow Discutions;\n",
    "            Udacity Data Science I - Fundamentals Tasks.\n",
    "\n",
    "\n",
    "## Final Coment\n",
    "\n",
    "            As well as we can see, this is a ocean of questions that dataset can provide us.\n",
    "            If you are really curious and thirst for discoverings you have to keep bringing hypothesis as much as you can.\n",
    "            This is a great attribute for those who decides beeing a Data Scientist.\n",
    "            \n",
    "            \n",
    "### Thanks for the apportunity of doing this job, with pleasure Marcelo Peres!"
   ]
  }
 ],
 "metadata": {
  "kernelspec": {
   "display_name": "Python 3",
   "language": "python",
   "name": "python3"
  },
  "language_info": {
   "codemirror_mode": {
    "name": "ipython",
    "version": 3
   },
   "file_extension": ".py",
   "mimetype": "text/x-python",
   "name": "python",
   "nbconvert_exporter": "python",
   "pygments_lexer": "ipython3",
   "version": "3.6.1"
  }
 },
 "nbformat": 4,
 "nbformat_minor": 2
}
