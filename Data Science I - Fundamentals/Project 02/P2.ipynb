{
 "cells": [
  {
   "cell_type": "markdown",
   "metadata": {},
   "source": [
    "# 1 - Introdution\n",
    "\n",
    "## Final Project - Titanic Case\n",
    "\n",
    "            This project has a objective to analyse Datas from the Titanic Ship historic \n"
    " disaster. The dataset was provided by Udacity as a Final Project for students of Data Science I - Fundamentals.\n",
    "    \n",
    "    \n",
    "            At this moment we start making questions to our dataset like:\n",
    "            \n",
    "        Q-01 - How many percent are there for lost and alive people according to Age Category?\n",
    "        Q-02 - What are the Age Categories percentages for Alive People?\n",
    "        Q-03 - What are the Age Categories percentages for Lost People?\n",
    "        Q-04 - What are the percentages for Alive and Lost People at Titanic Disaster?\n",
    "        Q-05 - What's the Gender percentage for Alive People?\n",
    "        Q-06 - What's the Gender percentage for Lost People?\n",
    "        Q-07 - Considering Age Category. What's the difference between gender according to Alive People?\n",
    "        Q-08 - Considering Age Category. What's the difference between gender according to Lost People?\n",
    "\n",
    "# 2 - Cleaning Steps\n",
    "\n",
    "            Verifying null values, duplicates, inconsistencies to clean and organize datas with the best practices of Data  Science.\n",
    "            \n",
    "## Data Preparing Content\n",
    "\n",
    "            Every data was treated and explained through code cleaning process at moment we type each one of them."
   ]
  },
  {
   "cell_type": "markdown",
   "metadata": {},
   "source": [
    "## Inicial Phase - Importing Python libraries and 'csv file' to work with datas"
   ]
  },
  {
   "cell_type": "code",
   "execution_count": 3,
   "metadata": {},
   "outputs": [
    {
     "data": {
      "text/html": [
       "<div>\n",
       "<style scoped>\n",
       "    .dataframe tbody tr th:only-of-type {\n",
       "        vertical-align: middle;\n",
       "    }\n",
       "\n",
       "    .dataframe tbody tr th {\n",
       "        vertical-align: top;\n",
       "    }\n",
       "\n",
       "    .dataframe thead th {\n",
       "        text-align: right;\n",
       "    }\n",
       "</style>\n",
       "<table border=\"1\" class=\"dataframe\">\n",
       "  <thead>\n",
       "    <tr style=\"text-align: right;\">\n",
       "      <th></th>\n",
       "      <th>passengerid</th>\n",
       "      <th>survived</th>\n",
       "      <th>pclass</th>\n",
       "      <th>name</th>\n",
       "      <th>sex</th>\n",
       "      <th>age</th>\n",
       "      <th>sibsp</th>\n",
       "      <th>parch</th>\n",
       "      <th>ticket</th>\n",
       "      <th>fare</th>\n",
       "      <th>cabin</th>\n",
       "      <th>embarked</th>\n",
       "    </tr>\n",
       "  </thead>\n",
       "  <tbody>\n",
       "    <tr>\n",
       "      <th>0</th>\n",
       "      <td>1</td>\n",
       "      <td>0</td>\n",
       "      <td>3</td>\n",
       "      <td>Braund, Mr. Owen Harris</td>\n",
       "      <td>male</td>\n",
       "      <td>22.0</td>\n",
       "      <td>1</td>\n",
       "      <td>0</td>\n",
       "      <td>A/5 21171</td>\n",
       "      <td>7.2500</td>\n",
       "      <td>NaN</td>\n",
       "      <td>S</td>\n",
       "    </tr>\n",
       "    <tr>\n",
       "      <th>1</th>\n",
       "      <td>2</td>\n",
       "      <td>1</td>\n",
       "      <td>1</td>\n",
       "      <td>Cumings, Mrs. John Bradley (Florence Briggs Th...</td>\n",
       "      <td>female</td>\n",
       "      <td>38.0</td>\n",
       "      <td>1</td>\n",
       "      <td>0</td>\n",
       "      <td>PC 17599</td>\n",
       "      <td>71.2833</td>\n",
       "      <td>C85</td>\n",
       "      <td>C</td>\n",
       "    </tr>\n",
       "    <tr>\n",
       "      <th>2</th>\n",
       "      <td>3</td>\n",
       "      <td>1</td>\n",
       "      <td>3</td>\n",
       "      <td>Heikkinen, Miss. Laina</td>\n",
       "      <td>female</td>\n",
       "      <td>26.0</td>\n",
       "      <td>0</td>\n",
       "      <td>0</td>\n",
       "      <td>STON/O2. 3101282</td>\n",
       "      <td>7.9250</td>\n",
       "      <td>NaN</td>\n",
       "      <td>S</td>\n",
       "    </tr>\n",
       "    <tr>\n",
       "      <th>3</th>\n",
       "      <td>4</td>\n",
       "      <td>1</td>\n",
       "      <td>1</td>\n",
       "      <td>Futrelle, Mrs. Jacques Heath (Lily May Peel)</td>\n",
       "      <td>female</td>\n",
       "      <td>35.0</td>\n",
       "      <td>1</td>\n",
       "      <td>0</td>\n",
       "      <td>113803</td>\n",
       "      <td>53.1000</td>\n",
       "      <td>C123</td>\n",
       "      <td>S</td>\n",
       "    </tr>\n",
       "    <tr>\n",
       "      <th>4</th>\n",
       "      <td>5</td>\n",
       "      <td>0</td>\n",
       "      <td>3</td>\n",
       "      <td>Allen, Mr. William Henry</td>\n",
       "      <td>male</td>\n",
       "      <td>35.0</td>\n",
       "      <td>0</td>\n",
       "      <td>0</td>\n",
       "      <td>373450</td>\n",
       "      <td>8.0500</td>\n",
       "      <td>NaN</td>\n",
       "      <td>S</td>\n",
       "    </tr>\n",
       "  </tbody>\n",
       "</table>\n",
       "</div>"
      ],
      "text/plain": [
       "   passengerid  survived  pclass  \\\n",
       "0            1         0       3   \n",
       "1            2         1       1   \n",
       "2            3         1       3   \n",
       "3            4         1       1   \n",
       "4            5         0       3   \n",
       "\n",
       "                                                name     sex   age  sibsp  \\\n",
       "0                            Braund, Mr. Owen Harris    male  22.0      1   \n",
       "1  Cumings, Mrs. John Bradley (Florence Briggs Th...  female  38.0      1   \n",
       "2                             Heikkinen, Miss. Laina  female  26.0      0   \n",
       "3       Futrelle, Mrs. Jacques Heath (Lily May Peel)  female  35.0      1   \n",
       "4                           Allen, Mr. William Henry    male  35.0      0   \n",
       "\n",
       "   parch            ticket     fare cabin embarked  \n",
       "0      0         A/5 21171   7.2500   NaN        S  \n",
       "1      0          PC 17599  71.2833   C85        C  \n",
       "2      0  STON/O2. 3101282   7.9250   NaN        S  \n",
       "3      0            113803  53.1000  C123        S  \n",
       "4      0            373450   8.0500   NaN        S  "
      ]
     },
     "execution_count": 3,
     "metadata": {},
     "output_type": "execute_result"
    }
   ],
   "source": [
    "import pandas as pd  # Importing Pandas library\n",
    "import numpy as np   # Importing Numpy library\n",
    "import matplotlib.pyplot as plt # Importing Matplotlib library\n",
    "import matplotlib.patches as pls # Importing Matplotlib library\n",
    "import seaborn as sns # Importing Seaborn library\n",
    "\n",
    "% matplotlib inline\n",
    "sns.set_style('darkgrid')\n",
    "\n",
    "dft = pd.read_csv('titanic.csv')\n",
    "dft.columns = map(str.lower, dft.columns)\n",
    "\n",
    "dft.head()"
   ]
  },
  {
   "cell_type": "markdown",
   "metadata": {},
   "source": [
    "## Verifying Null Values into dataset"
   ]
  },
  {
   "cell_type": "code",
   "execution_count": 4,
   "metadata": {},
   "outputs": [
    {
     "data": {
      "text/plain": [
       "passengerid      0\n",
       "survived         0\n",
       "pclass           0\n",
       "name             0\n",
       "sex              0\n",
       "age            177\n",
       "sibsp            0\n",
       "parch            0\n",
       "ticket           0\n",
       "fare             0\n",
       "cabin          687\n",
       "embarked         2\n",
       "dtype: int64"
      ]
     },
     "execution_count": 4,
     "metadata": {},
     "output_type": "execute_result"
    }
   ],
   "source": [
    "#Count Null values\n",
    "dft.isnull().sum()"
   ]
  },
  {
   "cell_type": "markdown",
   "metadata": {},
   "source": [
    "## Creating Category for Age and analysing by group after\n",
    "\n",
    "            Category name: 'age_catedory'.\n",
    "            \n",
    "            children: 00 to 12 years old.\n",
    "                teen: 13 to 19 years old.\n",
    "               adult: 20 to 50 years old.\n",
    "                 old: over 50 years old.\n",
    "         \n",
    "            Null valeus: set as 'nan' for while."
   ]
  },
  {
   "cell_type": "code",
   "execution_count": 5,
   "metadata": {
    "collapsed": true
   },
   "outputs": [],
   "source": [
    "#Usind Numpy, it was created a new column as category age of people\n",
    "dft['age_category'] = np.where(dft['age'] < 13, 'Children',\n",
    "                      np.where(dft['age'] < 20, 'Teen',\n",
    "                      np.where(dft['age'] < 50, 'Adult',\n",
    "                      np.where(dft['age'] >= 50, 'Old', np.nan))))"
   ]
  },
  {
   "cell_type": "markdown",
   "metadata": {},
   "source": [
    "## Taking off Full Values to Save into a New Dataset\n",
    "        \n",
    "            Saving a list with full Values according to ['age'] column."
   ]
  },
  {
   "cell_type": "code",
   "execution_count": 6,
   "metadata": {},
   "outputs": [
    {
     "data": {
      "text/plain": [
       "(714, 13)"
      ]
     },
     "execution_count": 6,
     "metadata": {},
     "output_type": "execute_result"
    }
   ],
   "source": [
    "dff = dft.dropna(subset=['age']) # take off null to calculate proportions\n",
    "dff.shape # only columns with full Age values"
   ]
  },
  {
   "cell_type": "markdown",
   "metadata": {},
   "source": [
    "## Saving and applying proportions to null values according to ['age'] column\n",
    "        \n",
    "### Saving Variables to apply into age null values\n",
    "            \n",
    "            lna = 'Saving a null list according to ['age'] column'.\n",
    "            tna = 'Total null values for ['age'] column'.\n",
    "             \n",
    "### Find proportion and multiply for total age null values\n",
    "\n",
    "            Formula: (cat = Age Caterory, tla = Total Age not null, na = Total Null Ages)\n",
    "             \n",
    "$$ta = (\\frac{cat}{tla})*na$$\n",
    "\n",
    "            ta = Adult quantities applyed to null values.\n",
    "            tc = Children quantities applyed to null values.\n",
    "            to = Old quantities applyed to null values.\n",
    "            tt = Teen quantities applyed to null values."
   ]
  },
  {
   "cell_type": "code",
   "execution_count": 7,
   "metadata": {},
   "outputs": [
    {
     "name": "stdout",
     "output_type": "stream",
     "text": [
      "Total to be applyed into null list:\n",
      "\n",
      " ta = Adults: 118\n",
      " tc = Children:17\n",
      " to = Old:18\n",
      " tt = Teen:24\n"
     ]
    }
   ],
   "source": [
    "lna = dft[dft['age'].isnull()] # Null List according to column 'Age'\n",
    "tna = lna.count()['age_category'] # Null count according to column 'Age'\n",
    "\n",
    "def tlaca(a1): # Into a Age Null proportion, indentfy Quantities by Age Category choosing column data from it.\n",
    "    return int(round((dft[dft['age_category'] == a1].shape[0]/dff['age_category'].shape[0])*tna))\n",
    "\n",
    "# Applying proportion and multiplying for null count\n",
    "ta = tlaca('Adult')\n",
    "tc = tlaca('Children')\n",
    "to = tlaca('Old')\n",
    "tt = tlaca('Teen')\n",
    "\n",
    "print('Total to be applyed into null list:\\n')\n",
    "print(' ta = Adults: {}\\n tc = Children:{}\\n to = Old:{}\\n tt = Teen:{}'.format(ta, tc ,to ,tt)) # Result"
   ]
  },
  {
   "cell_type": "markdown",
   "metadata": {},
   "source": [
    "## Saving medians for 'age_category'\n",
    "\n",
    "            ma = Adult Median.\n",
    "            mc = Children Median.\n",
    "            mo = Old Median.\n",
    "            mt = Teen Median."
   ]
  },
  {
   "cell_type": "code",
   "execution_count": 8,
   "metadata": {},
   "outputs": [
    {
     "name": "stdout",
     "output_type": "stream",
     "text": [
      "Median to be applyed into null list:\n",
      "\n",
      " ma = Adults: 30.0\n",
      " mc = Children: 4.0\n",
      " mo = Old: 56.0\n",
      " mt = Teen: 18.0\n"
     ]
    }
   ],
   "source": [
    "# at same way I can save using group by the median by definition:\n",
    "\n",
    "def mlaca(a1): # Median of a filtered list by Age Category choosing column data from it.\n",
    "    return round(dft[dft['age_category'] == a1].median()['age'])\n",
    "\n",
    "ma = mlaca('Adult')\n",
    "mc = mlaca('Children')\n",
    "mo = mlaca('Old')\n",
    "mt = mlaca('Teen')\n",
    "\n",
    "print('Median to be applyed into null list:\\n')\n",
    "print(' ma = Adults: {}\\n mc = Children: {}\\n mo = Old: {}\\n mt = Teen: {}'.format(ma, mc ,mo ,mt)) # Result"
   ]
  },
  {
   "cell_type": "markdown",
   "metadata": {},
   "source": [
    "## Creating and appending median to null Age values\n",
    "\n",
    "            lna = 'Saving a null list according to ['age'] column'.\n",
    "            \n",
    "            ma = Adult Median.        ta = Adult quantities applyed to null values.                        \n",
    "            mc = Children Median.     tc = Children quantities applyed to null values.\n",
    "            mo = Old Median.          to = Old quantities applyed to null values.\n",
    "            mt = Teen Median.         tt = Teen quantities applyed to null values.\n",
    "            \n",
    "            A replaced Partial list into ['age'] null valeus according to Median.\n",
    "            \n",
    "            dfta = Filtered list with 'ta' applyed with 'ma' into ['age'] null values.\n",
    "            dftc = Filtered list with 'tc' applyed with 'mc' into ['age'] null values.\n",
    "            dfto = Filtered list with 'to' applyed with 'mo' into ['age'] null values.\n",
    "            dftt = Filtered list with 'tc' applyed with 'mc' into ['age'] null values.\n",
    "            \n",
    "            dftn = New List fulfilled with the replaced new values into ['age'] column."
   ]
  },
  {
   "cell_type": "code",
   "execution_count": 9,
   "metadata": {},
   "outputs": [
    {
     "name": "stdout",
     "output_type": "stream",
     "text": [
      "Category to be reprocessed\n",
      "\n",
      "               size  median\n",
      "age_category              \n",
      "nan            177    30.0 \n",
      "\n"
     ]
    }
   ],
   "source": [
    "# Filtering Data Lists according to informations above.\n",
    "dfta = lna.head(ta)\n",
    "dfta = dfta.fillna({'age':ma})\n",
    "\n",
    "dftc = lna.iloc[ta:,:].head(tc)\n",
    "dftc = dftc.fillna({'age':mc})\n",
    "\n",
    "dfto = lna.iloc[ta+tc:,:].head(to)\n",
    "dfto = dfto.fillna({'age':mo})\n",
    "\n",
    "dftt = lna.iloc[ta+tc+to:,:].head(tt)\n",
    "dftt = dftt.fillna({'age':mt})\n",
    "\n",
    "# Appending New fullfild Data Lists..\n",
    "dftn = dfta.append(dftc)\n",
    "dftn = dftn.append(dfto)\n",
    "dftn = dftn.append(dftt)\n",
    "\n",
    "print('Category to be reprocessed\\n\\n', round(dftn.groupby('age_category').age.agg(['size','median'])),'\\n') # Group by"
   ]
  },
  {
   "cell_type": "markdown",
   "metadata": {},
   "source": [
    "## Reprocessing 'age_category' and Print"
   ]
  },
  {
   "cell_type": "code",
   "execution_count": 10,
   "metadata": {},
   "outputs": [
    {
     "name": "stdout",
     "output_type": "stream",
     "text": [
      "Category reprocessed\n",
      "\n",
      "               size  median\n",
      "age_category              \n",
      "Adult          118    30.0\n",
      "Children        17     4.0\n",
      "Old             18    56.0\n",
      "Teen            24    18.0 \n",
      "\n"
     ]
    }
   ],
   "source": [
    "dftn['age_category'] = np.where(dftn['age'] < 13, 'Children',\n",
    "                       np.where(dftn['age'] < 20, 'Teen',\n",
    "                       np.where(dftn['age'] < 50, 'Adult',\n",
    "                       np.where(dftn['age'] >= 50, 'Old', np.nan))))\n",
    "\n",
    "print('Category reprocessed\\n\\n', round(dftn.groupby('age_category').age.agg(['size','median'])),'\\n') # Group by"
   ]
  },
  {
   "cell_type": "markdown",
   "metadata": {},
   "source": [
    "## Comparing column types"
   ]
  },
  {
   "cell_type": "code",
   "execution_count": 11,
   "metadata": {},
   "outputs": [
    {
     "data": {
      "text/plain": [
       "passengerid     True\n",
       "survived        True\n",
       "pclass          True\n",
       "name            True\n",
       "sex             True\n",
       "age             True\n",
       "sibsp           True\n",
       "parch           True\n",
       "ticket          True\n",
       "fare            True\n",
       "cabin           True\n",
       "embarked        True\n",
       "age_category    True\n",
       "dtype: bool"
      ]
     },
     "execution_count": 11,
     "metadata": {},
     "output_type": "execute_result"
    }
   ],
   "source": [
    "dftn.dtypes == dft.dtypes"
   ]
  },
  {
   "cell_type": "markdown",
   "metadata": {},
   "source": [
    "## Dropping Null list according to 'Age'"
   ]
  },
  {
   "cell_type": "code",
   "execution_count": 12,
   "metadata": {},
   "outputs": [
    {
     "name": "stdout",
     "output_type": "stream",
     "text": [
      "All Dataset:  (891, 13)\n",
      "Full Dataset:  (714, 13)\n"
     ]
    }
   ],
   "source": [
    "print('All Dataset: ', dft.shape) # All Dataset\n",
    "dft = dft[dft['age'].notnull()] # Full Age Dataset\n",
    "print('Full Dataset: ', dft.shape) # Full Age Dataset"
   ]
  },
  {
   "cell_type": "markdown",
   "metadata": {},
   "source": [
    "## Appending New list with the 'Age' cleaned to Full Age Dataset"
   ]
  },
  {
   "cell_type": "code",
   "execution_count": 13,
   "metadata": {},
   "outputs": [
    {
     "data": {
      "text/plain": [
       "(891, 13)"
      ]
     },
     "execution_count": 13,
     "metadata": {},
     "output_type": "execute_result"
    }
   ],
   "source": [
    "dft = dft.append(dftn) # Append Cleaned\n",
    "dft.shape # quantity"
   ]
  },
  {
   "cell_type": "markdown",
   "metadata": {},
   "source": [
    "## Replace Missing Datas with Text for 'Embarked'!"
   ]
  },
  {
   "cell_type": "code",
   "execution_count": 14,
   "metadata": {},
   "outputs": [
    {
     "name": "stdout",
     "output_type": "stream",
     "text": [
      "embarked\n",
      "C    168\n",
      "Q     77\n",
      "S    644\n",
      "U      2\n",
      "dtype: int64 \n",
      "\n",
      "Tota Embarked: 891\n"
     ]
    }
   ],
   "source": [
    "#Replacing Embarked Null Values and Checking\n",
    "dft['embarked'].fillna('U', inplace=True) # U == Unknown Place \n",
    "print(dft.groupby('embarked').size(),'\\n') # Verify by Group\n",
    "print('Tota Embarked: {}'.format(sum(dft.groupby('embarked').size()))) # Checking size"
   ]
  },
  {
   "cell_type": "markdown",
   "metadata": {},
   "source": [
    "## Replace Missing Datas with UCN for 'Cabin'!"
   ]
  },
  {
   "cell_type": "code",
   "execution_count": 15,
   "metadata": {},
   "outputs": [
    {
     "name": "stdout",
     "output_type": "stream",
     "text": [
      "Total: 891\n"
     ]
    }
   ],
   "source": [
    "#Replacing Cabin Null Values and Checking\n",
    "dft['cabin'].fillna('UCN', inplace=True) # UCN == Unknown Cabin Number \n",
    "print('Total: {}'.format(sum(dft.groupby('cabin').size()))) # Checking Total in format way"
   ]
  },
  {
   "cell_type": "markdown",
   "metadata": {},
   "source": [
    "## Checking if you still have missing values"
   ]
  },
  {
   "cell_type": "code",
   "execution_count": 16,
   "metadata": {},
   "outputs": [
    {
     "data": {
      "text/plain": [
       "passengerid     0\n",
       "survived        0\n",
       "pclass          0\n",
       "name            0\n",
       "sex             0\n",
       "age             0\n",
       "sibsp           0\n",
       "parch           0\n",
       "ticket          0\n",
       "fare            0\n",
       "cabin           0\n",
       "embarked        0\n",
       "age_category    0\n",
       "dtype: int64"
      ]
     },
     "execution_count": 16,
     "metadata": {},
     "output_type": "execute_result"
    }
   ],
   "source": [
    "#Checking Missing fill steps\n",
    "dft.isnull().sum()"
   ]
  },
  {
   "cell_type": "markdown",
   "metadata": {},
   "source": [
    "## Checking and Dropping Duplicates"
   ]
  },
  {
   "cell_type": "code",
   "execution_count": 17,
   "metadata": {},
   "outputs": [
    {
     "data": {
      "text/plain": [
       "0"
      ]
     },
     "execution_count": 17,
     "metadata": {},
     "output_type": "execute_result"
    }
   ],
   "source": [
    "dft.duplicated().sum() # No duplicated data"
   ]
  },
  {
   "cell_type": "code",
   "execution_count": 18,
   "metadata": {},
   "outputs": [
    {
     "data": {
      "text/html": [
       "<div>\n",
       "<style scoped>\n",
       "    .dataframe tbody tr th:only-of-type {\n",
       "        vertical-align: middle;\n",
       "    }\n",
       "\n",
       "    .dataframe tbody tr th {\n",
       "        vertical-align: top;\n",
       "    }\n",
       "\n",
       "    .dataframe thead th {\n",
       "        text-align: right;\n",
       "    }\n",
       "</style>\n",
       "<table border=\"1\" class=\"dataframe\">\n",
       "  <thead>\n",
       "    <tr style=\"text-align: right;\">\n",
       "      <th></th>\n",
       "      <th>size</th>\n",
       "      <th>mean</th>\n",
       "    </tr>\n",
       "    <tr>\n",
       "      <th>age_category</th>\n",
       "      <th></th>\n",
       "      <th></th>\n",
       "    </tr>\n",
       "  </thead>\n",
       "  <tbody>\n",
       "    <tr>\n",
       "      <th>Adult</th>\n",
       "      <td>594</td>\n",
       "      <td>31.0</td>\n",
       "    </tr>\n",
       "    <tr>\n",
       "      <th>Children</th>\n",
       "      <td>86</td>\n",
       "      <td>5.0</td>\n",
       "    </tr>\n",
       "    <tr>\n",
       "      <th>Old</th>\n",
       "      <td>92</td>\n",
       "      <td>57.0</td>\n",
       "    </tr>\n",
       "    <tr>\n",
       "      <th>Teen</th>\n",
       "      <td>119</td>\n",
       "      <td>17.0</td>\n",
       "    </tr>\n",
       "  </tbody>\n",
       "</table>\n",
       "</div>"
      ],
      "text/plain": [
       "              size  mean\n",
       "age_category            \n",
       "Adult          594  31.0\n",
       "Children        86   5.0\n",
       "Old             92  57.0\n",
       "Teen           119  17.0"
      ]
     },
     "execution_count": 18,
     "metadata": {},
     "output_type": "execute_result"
    }
   ],
   "source": [
    "round(dft.groupby(['age_category']).age.agg(['size','mean'])) # Group by"
   ]
  },
  {
   "cell_type": "markdown",
   "metadata": {},
   "source": [
    "## Correcting Column 'Survived'\n",
    "\n",
    "            1 = Alive.\n",
    "            0 = Lost.\n",
    "            \n",
    "            df_al = A survived group by for survived people."
   ]
  },
  {
   "cell_type": "code",
   "execution_count": 19,
   "metadata": {
    "collapsed": true
   },
   "outputs": [],
   "source": [
    "dft.survived.replace([1, 0], ['Alive', 'Lost'], inplace=True)"
   ]
  },
  {
   "cell_type": "markdown",
   "metadata": {},
   "source": [
    "# 03 - Analysis Definitions"
   ]
  },
  {
   "cell_type": "markdown",
   "metadata": {},
   "source": [
    "### Total Stacked Bar Chart Definition\n",
    "\n",
    "            dfc1 = Choose a valid Column 1 name to group.\n",
    "            dfc2 = Choose a valid Column 2 name to group.\n",
    "              c1 = Choose color 1.\n",
    "              c2 = Choose color 2.\n",
    "       def tbarc = Total bar chart."
   ]
  },
  {
   "cell_type": "code",
   "execution_count": 20,
   "metadata": {
    "collapsed": true
   },
   "outputs": [],
   "source": [
    "def tl_barc(dfc1, dfc2, c1, c2): # Explanation above\n",
    "    return ((dft.groupby([dfc1, dfc2]).size()/dft.shape[0])*100).unstack().plot(\n",
    "                    kind='bar',\n",
    "                    stacked=True,    \n",
    "                    title='Gender Stacked Bar Chart for Gender',\n",
    "                    color=[c1,c2],\n",
    "                    figsize=(9,7),\n",
    "                    fontsize=10,\n",
    "                    rot=0);"
   ]
  },
  {
   "cell_type": "markdown",
   "metadata": {},
   "source": [
    "### Alive or Lost Stacked Bar Chart Definition\n",
    "\n",
    "              lc = Life Condition, choose 'Alive' or 'Lost'.\n",
    "            dfc1 = Choose a valid Column 1 name to group.\n",
    "            dfc2 = Choose a valid Column 2 name to group.\n",
    "              c1 = Choose color 1.\n",
    "              c2 = Choose color 2.\n",
    "         lc_barc = Life Condition bar chart. "
   ]
  },
  {
   "cell_type": "code",
   "execution_count": 21,
   "metadata": {
    "collapsed": true
   },
   "outputs": [],
   "source": [
    "def lc_barc(lc, dfc1, dfc2, c1, c2): # Explanation above\n",
    "    return ((dft[dft['survived']==lc].groupby([dfc1, dfc2]).size()/\n",
    "             dft[dft['survived']==lc].shape[0])*100).unstack().plot(\n",
    "                    kind='bar',\n",
    "                    stacked=True,    \n",
    "                    title='Gender Stacked Bar Chart for Gender',\n",
    "                    color=[c1,c2],\n",
    "                    figsize=(9,7),\n",
    "                    fontsize=10,\n",
    "                    rot=0);"
   ]
  },
  {
   "cell_type": "markdown",
   "metadata": {},
   "source": [
    "### Pie Chart Variables\n",
    "\n",
    "               ac = Age Categories list.\n",
    "            lb_ac = List of Age Categories.\n",
    "          cols_ac = Defined colors for Age Categories.\n",
    "          cols_lc = Defined colors for Life Conditions. (Alive or Lost)\n",
    "              glc = Grouped by Life Conditions. (Alive or Lost)\n",
    "              ulc = Unique list for glc.\n",
    "            lb_gc = Gender Category ascending."
   ]
  },
  {
   "cell_type": "code",
   "execution_count": 22,
   "metadata": {
    "collapsed": true
   },
   "outputs": [],
   "source": [
    "lb_ac = list(dict(dft.groupby('age_category').size()))\n",
    "cols_ac = ['c', 'y', 'g', 'r']\n",
    "cols_lc = ['c', 'r']\n",
    "glc = dft.groupby(['survived'])['embarked'].size()\n",
    "ulc = list(dict(glc))\n",
    "lb_gc = pd.Series(pd.unique(dft['sex'])).sort_values(ascending=True)"
   ]
  },
  {
   "cell_type": "markdown",
   "metadata": {},
   "source": [
    "### Pie Chart Defitions\n",
    "\n",
    "     def gc_piec = Pie Chart for Gender Group by for a choosen life conditions. (Alive or Lost)\n",
    "     def ac_piec = Pie Chart for Age Categories Group by for a choosen life conditions. (Alive or Lost)\n",
    "              lc = Choose life conditions. (Alive or Lost)"
   ]
  },
  {
   "cell_type": "code",
   "execution_count": 23,
   "metadata": {
    "collapsed": true
   },
   "outputs": [],
   "source": [
    "def gc_piec(lc):\n",
    "    return plt.pie(dft[dft['survived']==lc].groupby(['sex']).size(),\n",
    "                   textprops={'fontsize': 12},\n",
    "                   colors=cols_lc,\n",
    "                   startangle=90,\n",
    "                   shadow=True,\n",
    "                   explode=(0.1,0.1),\n",
    "                   autopct='%0.2f%%',\n",
    "                   radius=1);"
   ]
  },
  {
   "cell_type": "code",
   "execution_count": 24,
   "metadata": {
    "collapsed": true
   },
   "outputs": [],
   "source": [
    "def ac_piec(lc):\n",
    "    return plt.pie(dft[dft['survived']==lc].groupby(['age_category']).size(),\n",
    "                   textprops={'fontsize': 12},\n",
    "                   colors=cols_ac,\n",
    "                   startangle=90,\n",
    "                   shadow=True,\n",
    "                   explode=(0.1,0.15,0.15,0.08),\n",
    "                   autopct='%0.2f%%',\n",
    "                   radius=1);"
   ]
  },
  {
   "cell_type": "markdown",
   "metadata": {},
   "source": [
    "# Pie and Bar Analysis Progressions"
   ]
  },
  {
   "cell_type": "markdown",
   "metadata": {},
   "source": [
    "## Q-01 - Life Conditions Stacked Bar Chart Analysis for Age Category"
   ]
  },
  {
   "cell_type": "code",
   "execution_count": 25,
   "metadata": {},
   "outputs": [
    {
     "data": {
      "image/png": "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\n",
      "text/plain": [
       "<Figure size 648x504 with 1 Axes>"
      ]
     },
     "metadata": {},
     "output_type": "display_data"
    }
   ],
   "source": [
    "tl_barc('age_category', 'survived', 'b', 'r')\n",
    "\n",
    "plt.xlabel('Titanic Disaster');\n",
    "plt.ylabel('% - Percent Scale');"
   ]
  },
  {
   "cell_type": "markdown",
   "metadata": {},
   "source": [
    "## Q-01 - Stacked Bar Above\n",
    "\n",
    "            According to life conditions between Alive and Lost people clearly we see our losts were greater for Adults, Teens and Olds. Thus only Children had a different end."
   ]
  },
  {
   "cell_type": "markdown",
   "metadata": {},
   "source": [
    "## Q-02 - Pie Chart Among Age Category for Alive People %"
   ]
  },
  {
   "cell_type": "code",
   "execution_count": 26,
   "metadata": {},
   "outputs": [
    {
     "data": {
      "image/png": "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\n",
      "text/plain": [
       "<Figure size 432x288 with 1 Axes>"
      ]
     },
     "metadata": {},
     "output_type": "display_data"
    }
   ],
   "source": [
    "plt.axis('equal');\n",
    "plt.title('Alive People');\n",
    "ac_piec('Alive');\n",
    "\n",
    "\n",
    "plt.legend(lb_ac, bbox_to_anchor=(1,0), loc='lower center', fontsize=12);\n"
   ]
  },
  {
   "cell_type": "markdown",
   "metadata": {},
   "source": [
    "## Q-02 - Pie Chart Above\n",
    "\n",
    "            In this case we found those Adults with almost 65% of alives in reference to others."
   ]
  },
  {
   "cell_type": "markdown",
   "metadata": {},
   "source": [
    "## Q-03 - Pie Chart Among Age Category for Lost People %"
   ]
  },
  {
   "cell_type": "code",
   "execution_count": 27,
   "metadata": {},
   "outputs": [
    {
     "data": {
      "image/png": "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\n",
      "text/plain": [
       "<Figure size 432x288 with 1 Axes>"
      ]
     },
     "metadata": {},
     "output_type": "display_data"
    }
   ],
   "source": [
    "ac_piec('Lost')\n",
    "\n",
    "plt.title('Lost People');\n",
    "plt.legend(lb_ac, bbox_to_anchor=(1,0), loc='lower center', fontsize=12);\n",
    "plt.axis('equal');"
   ]
  },
  {
   "cell_type": "markdown",
   "metadata": {},
   "source": [
    "## Q-03 - Pie Chart Above\n",
    "\n",
    "            In this case we found those Adults with almost 70% of losts in reference to others."
   ]
  },
  {
   "cell_type": "markdown",
   "metadata": {},
   "source": [
    "## Q-04 - Pie Chart Between Lost and Alive People %"
   ]
  },
  {
   "cell_type": "code",
   "execution_count": 28,
   "metadata": {},
   "outputs": [
    {
     "data": {
      "image/png": "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\n",
      "text/plain": [
       "<Figure size 432x288 with 1 Axes>"
      ]
     },
     "metadata": {},
     "output_type": "display_data"
    }
   ],
   "source": [
    "plt.pie(glc,\n",
    "        textprops={'fontsize': 12},\n",
    "        colors=cols_lc,\n",
    "        startangle=90,\n",
    "        shadow=True,\n",
    "        explode=(0.1,0.1),\n",
    "        autopct='%0.2f%%',\n",
    "        radius=1);\n",
    "\n",
    "plt.title('Losts and Alive People');\n",
    "plt.legend(ulc ,bbox_to_anchor=(1,0), loc='lower center', fontsize=12);\n",
    "plt.axis('equal');"
   ]
  },
  {
   "cell_type": "markdown",
   "metadata": {},
   "source": [
    "## Q-04 - Pie Chart Above\n",
    "\n",
    "            Unfortunately our losts were greater then we imagined."
   ]
  },
  {
   "cell_type": "markdown",
   "metadata": {},
   "source": [
    "## Q-05 - Pie Chart Between Gender for Alive People %"
   ]
  },
  {
   "cell_type": "code",
   "execution_count": 29,
   "metadata": {},
   "outputs": [
    {
     "data": {
      "image/png": "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\n",
      "text/plain": [
       "<Figure size 432x288 with 1 Axes>"
      ]
     },
     "metadata": {},
     "output_type": "display_data"
    }
   ],
   "source": [
    "gc_piec('Alive')\n",
    "\n",
    "plt.title('Alive People');\n",
    "plt.legend(lb_gc, bbox_to_anchor=(1,0), loc='lower center', fontsize=12);\n",
    "plt.axis('equal');"
   ]
  },
  {
   "cell_type": "markdown",
   "metadata": {},
   "source": [
    "## Q-05 - Pie Chart Above\n",
    "\n",
    "            As a human cortezy, men sacrificed themselves to guarantee women lives."
   ]
  },
  {
   "cell_type": "markdown",
   "metadata": {},
   "source": [
    "## Q-06 - Pie Chart Between Gender for Lost People %"
   ]
  },
  {
   "cell_type": "code",
   "execution_count": 30,
   "metadata": {},
   "outputs": [
    {
     "data": {
      "image/png": "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\n",
      "text/plain": [
       "<Figure size 432x288 with 1 Axes>"
      ]
     },
     "metadata": {},
     "output_type": "display_data"
    }
   ],
   "source": [
    "gc_piec('Lost')\n",
    "\n",
    "plt.title('Lost People');\n",
    "plt.legend(lb_gc, bbox_to_anchor=(1,0), loc='lower center', fontsize=12);\n",
    "plt.axis('equal');"
   ]
  },
  {
   "cell_type": "markdown",
   "metadata": {},
   "source": [
    "## Q-06 - Pie Chart Above\n",
    "\n",
    "            In comparison to alive people, this situation was exactly the opposite, being a small part of this terrible lost."
   ]
  },
  {
   "cell_type": "markdown",
   "metadata": {},
   "source": [
    "## Q-07 - Gender Stacked Bar Chart for Age Category - Alive People"
   ]
  },
  {
   "cell_type": "code",
   "execution_count": 31,
   "metadata": {},
   "outputs": [
    {
     "data": {
      "image/png": "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\n",
      "text/plain": [
       "<Figure size 648x504 with 1 Axes>"
      ]
     },
     "metadata": {},
     "output_type": "display_data"
    }
   ],
   "source": [
    "lc_barc('Alive','age_category', 'sex', 'c', 'r')\n",
    "\n",
    "plt.xlabel('Alive People');\n",
    "plt.ylabel('% - Percent Scale');"
   ]
  },
  {
   "cell_type": "markdown",
   "metadata": {},
   "source": [
    "## Q-07 - Stacked Bar Chart Above\n",
    "\n",
    "            By the same cortezy guaranteed by men, women were intensivelly saved in this tragedy."
   ]
  },
  {
   "cell_type": "markdown",
   "metadata": {},
   "source": [
    "## Q-08 - Gender Stacked Bar Chart for Age Category - Lost People"
   ]
  },
  {
   "cell_type": "code",
   "execution_count": 32,
   "metadata": {},
   "outputs": [
    {
     "data": {
      "image/png": "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\n",
      "text/plain": [
       "<Figure size 648x504 with 1 Axes>"
      ]
     },
     "metadata": {},
     "output_type": "display_data"
    }
   ],
   "source": [
    "lc_barc('Lost','age_category', 'sex', 'c', 'r')\n",
    "\n",
    "\n",
    "plt.xlabel('Lost People');\n",
    "plt.ylabel('% - Percent Scale');"
   ]
  },
  {
   "cell_type": "markdown",
   "metadata": {},
   "source": [
    "## Q-08 - Stacked Bar Chart Above\n",
    "\n",
    "            As obviously, in the opposite of situation showed before, right here our men losts were expressively in every Age Category created\n",
    "    to support our dataset."
   ]
  },
  {
   "cell_type": "markdown",
   "metadata": {},
   "source": [
    "# 04 - Conclusions\n",
    "\n",
    "            Finaly we got the conclusions, and for our founds, these analysis compared the Age differences agrouping them by categories,\n",
    "    the alive and lost people, the gender of them, using several graphs to support efectively our discoverings during the research.\n",
    "            Of course, there are a lot more questions that dataset may support us for good decision.\n",
    "            As well as every chart had answered relevant questions showed during this section of analysis.\n",
    "            \n",
    "# Limitations\n",
    "\n",
    "            Considering all passengers on board being 1300 and meanwhile we suppose a sum of 30 people as crew.\n",
    "            Thence, we  have a total of 1330 people on board that disaster. It actually meant that our results were significantly impacted\n",
    "    by a losing of almost 30% of datas.\n",
    "            \n",
    "            For cleaning missing data we took some steps:\n",
    "            \n",
    "                To fill nill for 'age' column was created a new column called 'age_category', being ages among life phases.\n",
    "                The nill datas of column'age' was filled with the median according to datas of 'age_category'.\n",
    "                Then the 'embarked' column nill data was filled with data 'U' being the Unknown place.\n",
    "                By the way for 'cabin' column was filled a total of 687 nill values with [UCN] Unknown Cabin Number and it does not considered as\n",
    "            criteria for analysis.\n",
    "                \n",
    "\n",
    "\n",
    "## Other Questions that can be Analysed in this dataset:\n",
    "            \n",
    "            How many Survived people for class can we find into dataset?\n",
    "            How many Survived people for class can we find into dataset by gender?\n",
    "            How many people does tragedy have for port of Embark?\n",
    "            How many Survived per port and gender do we have?\n",
    "            \n",
    "# Resources\n",
    "            \n",
    "            Titanic Data Base from Kraggle;\n",
    "            Python Documentation;\n",
    "            Python Libraries Documantation {Pandas, Numpy, Matplotlib, Matplotlib Patches  and Seaborn};\n",
    "            StackOverflow Discutions;\n",
    "            Udacity Data Science I - Fundamentals Tasks.\n",
    "\n",
    "\n",
    "## Final Coment\n",
    "\n",
    "            As well as we can see, this is a ocean of questions that dataset can provide us.\n",
    "            If you are really curious and thirst for discoverings you have to keep bringing hypothesis as much as you can.\n",
    "            This is a great attribute for those who decides beeing a Data Scientist.\n",
    "            \n",
    "            \n",
    "### Thanks for the apportunity of doing this job, with pleasure Marcelo Peres!"
   ]
  }
 ],
 "metadata": {
  "kernelspec": {
   "display_name": "Python 3",
   "language": "python",
   "name": "python3"
  },
  "language_info": {
   "codemirror_mode": {
    "name": "ipython",
    "version": 3
   },
   "file_extension": ".py",
   "mimetype": "text/x-python",
   "name": "python",
   "nbconvert_exporter": "python",
   "pygments_lexer": "ipython3",
   "version": "3.7.0"
  }
 },
 "nbformat": 4,
 "nbformat_minor": 2
}
